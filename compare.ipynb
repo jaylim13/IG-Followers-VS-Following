{
 "cells": [
  {
   "cell_type": "markdown",
   "metadata": {},
   "source": [
    "# Compare your instagram followers and following\n"
   ]
  },
  {
   "cell_type": "markdown",
   "metadata": {},
   "source": [
    "### We will compare your instagram followers with your instagram following\n"
   ]
  },
  {
   "cell_type": "code",
   "execution_count": null,
   "metadata": {},
   "outputs": [],
   "source": [
    "import json"
   ]
  },
  {
   "cell_type": "markdown",
   "metadata": {},
   "source": [
    "### Convert your comparable followers and following json files to comparable python dictionaries\n"
   ]
  },
  {
   "cell_type": "code",
   "execution_count": null,
   "metadata": {},
   "outputs": [],
   "source": [
    "# Makes 'followers' dictionary\n",
    "with open(f\"../connections/followers_and_following/followers_1.json\") as followers_json:\n",
    "    followers: list = json.load(followers_json)\n",
    "\n",
    "# Makes 'following' dictionary\n",
    "with open(\"../connections/followers_and_following/following.json\") as following_json:\n",
    "    following: dict = json.load(following_json)"
   ]
  },
  {
   "cell_type": "markdown",
   "metadata": {},
   "source": [
    "### Process the followers\n",
    "\n",
    "Note: followers_1.json is a list data structure\n"
   ]
  },
  {
   "cell_type": "code",
   "execution_count": null,
   "metadata": {},
   "outputs": [],
   "source": [
    "# See list of all your followers\n",
    "follower_usernames: list[str] = []\n",
    "for follower_block in followers:\n",
    "    follower_usernames.append(follower_block[\"string_list_data\"][0][\"value\"])\n",
    "print(follower_usernames)"
   ]
  },
  {
   "cell_type": "markdown",
   "metadata": {},
   "source": [
    "### Process the following\n",
    "\n",
    "Note: following.json is a dict data structure\n"
   ]
  },
  {
   "cell_type": "code",
   "execution_count": null,
   "metadata": {},
   "outputs": [],
   "source": [
    "# See list of all your following\n",
    "following_usernames: list[str] = []\n",
    "for following_block in following[\"relationships_following\"]:\n",
    "    following_usernames.append(following_block[\"string_list_data\"][0][\"value\"])\n",
    "print(following_usernames)"
   ]
  },
  {
   "cell_type": "markdown",
   "metadata": {},
   "source": [
    "### Compare the 2 processed lists: follower_usernames and following_usernames\n"
   ]
  },
  {
   "cell_type": "code",
   "execution_count": null,
   "metadata": {},
   "outputs": [],
   "source": [
    "friends = set(follower_usernames) & set(following_usernames)\n",
    "print(friends)"
   ]
  },
  {
   "cell_type": "code",
   "execution_count": null,
   "metadata": {},
   "outputs": [],
   "source": [
    "non_friends = set(following_usernames) - set(follower_usernames)\n",
    "print(non_friends)"
   ]
  }
 ],
 "metadata": {
  "kernelspec": {
   "display_name": "Python 3",
   "language": "python",
   "name": "python3"
  },
  "language_info": {
   "codemirror_mode": {
    "name": "ipython",
    "version": 3
   },
   "file_extension": ".py",
   "mimetype": "text/x-python",
   "name": "python",
   "nbconvert_exporter": "python",
   "pygments_lexer": "ipython3",
   "version": "3.10.6"
  }
 },
 "nbformat": 4,
 "nbformat_minor": 2
}
